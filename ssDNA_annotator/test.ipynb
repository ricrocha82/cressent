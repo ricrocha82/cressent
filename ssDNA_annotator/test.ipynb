{
 "cells": [
  {
   "cell_type": "code",
   "execution_count": 2,
   "metadata": {},
   "outputs": [],
   "source": [
    "import argparse\n",
    "import subprocess\n",
    "import os\n",
    "import re\n",
    "\n",
    "def run_command(command, error_message):\n",
    "    \"\"\"\n",
    "    Helper function to run a shell command and handle errors.\n",
    "    \"\"\"\n",
    "    try:\n",
    "        subprocess.run(command, shell=True, check=True)\n",
    "        print(f\"Command succeeded: {command}\")\n",
    "    except subprocess.CalledProcessError as e:\n",
    "        print(f\"{error_message}: {e}\")\n",
    "        exit(1)"
   ]
  },
  {
   "cell_type": "code",
   "execution_count": 3,
   "metadata": {},
   "outputs": [],
   "source": [
    "output_dir='/fs/project/PAS1117/ricardo/ssDNA_test/test_data/output_3/'\n",
    "aligned_fasta='/fs/project/PAS1117/ricardo/ssDNA_test/test_data/Circoviridae_caps.fa'"
   ]
  },
  {
   "cell_type": "code",
   "execution_count": 1,
   "metadata": {},
   "outputs": [],
   "source": [
    "def trim_alignment(aligned_fasta, output_dir, gap_threshold=0.2):\n",
    "    \"\"\"\n",
    "    Trim alignment using TrimAl.\n",
    "    \"\"\"\n",
    "    trimmed_file = os.path.join(output_dir, \"aligned_trimmed_sequences.fasta\")\n",
    "    cmd = f\"trimal -keepheader -in {aligned_fasta} -out {trimmed_file} -gt {gap_threshold}\"\n",
    "    run_command(cmd, \"Error running TrimAl\")\n",
    "    return trimmed_file"
   ]
  },
  {
   "cell_type": "code",
   "execution_count": null,
   "metadata": {},
   "outputs": [],
   "source": []
  },
  {
   "cell_type": "code",
   "execution_count": 4,
   "metadata": {},
   "outputs": [
    {
     "name": "stdout",
     "output_type": "stream",
     "text": [
      "Error running TrimAl: Command 'trimal -keepheader -in /fs/project/PAS1117/ricardo/ssDNA_test/test_data/Circoviridae_caps.fa -out /fs/project/PAS1117/ricardo/ssDNA_test/test_data/output_3/aligned_trimmed_sequences.fasta -gt 0.2' returned non-zero exit status 255.\n"
     ]
    },
    {
     "name": "stderr",
     "output_type": "stream",
     "text": [
      "\n",
      "ERROR: The sequences in the input alignment should be aligned in order to use trimming method.\n",
      "\n"
     ]
    },
    {
     "data": {
      "text/plain": [
       "'/fs/project/PAS1117/ricardo/ssDNA_test/test_data/output_3/aligned_trimmed_sequences.fasta'"
      ]
     },
     "execution_count": 4,
     "metadata": {},
     "output_type": "execute_result"
    }
   ],
   "source": [
    "trim_alignment(aligned_fasta, output_dir)"
   ]
  },
  {
   "cell_type": "code",
   "execution_count": 12,
   "metadata": {},
   "outputs": [],
   "source": [
    "input_fasta=\"/fs/project/PAS1117/ricardo/ssDNA_test/test_data/Circoviridae_reps.fa\"\n",
    "output_dir='/fs/project/PAS1117/ricardo/ssDNA_tool/test_data/output_3/'"
   ]
  },
  {
   "cell_type": "code",
   "execution_count": 5,
   "metadata": {},
   "outputs": [],
   "source": [
    "import os"
   ]
  },
  {
   "cell_type": "code",
   "execution_count": 14,
   "metadata": {},
   "outputs": [
    {
     "data": {
      "text/plain": [
       "'/fs/project/PAS1117/ricardo/ssDNA_tool/test_data/output_3/Circoviridae_reps_aligned_sequences.fasta'"
      ]
     },
     "execution_count": 14,
     "metadata": {},
     "output_type": "execute_result"
    }
   ],
   "source": [
    "os.path.join(output_dir, f\"{prefix}_aligned_sequences.fasta\")"
   ]
  },
  {
   "cell_type": "code",
   "execution_count": 13,
   "metadata": {},
   "outputs": [],
   "source": [
    "prefix=os.path.splitext(os.path.basename(input_fasta))[0]"
   ]
  }
 ],
 "metadata": {
  "kernelspec": {
   "display_name": "mafft",
   "language": "python",
   "name": "python3"
  },
  "language_info": {
   "codemirror_mode": {
    "name": "ipython",
    "version": 3
   },
   "file_extension": ".py",
   "mimetype": "text/x-python",
   "name": "python",
   "nbconvert_exporter": "python",
   "pygments_lexer": "ipython3",
   "version": "3.12.3"
  }
 },
 "nbformat": 4,
 "nbformat_minor": 2
}
