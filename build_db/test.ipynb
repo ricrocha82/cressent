{
 "cells": [
  {
   "cell_type": "code",
   "execution_count": 1,
   "metadata": {},
   "outputs": [],
   "source": [
    "from Bio import SeqIO"
   ]
  },
  {
   "cell_type": "code",
   "execution_count": 20,
   "metadata": {},
   "outputs": [],
   "source": [
    "fasta_path = \"/fs/scratch/Sullivan_Lab/Ricardo/ssDNA_db/annotated/caps/Adamaviridae_cl_2.fa\""
   ]
  },
  {
   "cell_type": "code",
   "execution_count": 21,
   "metadata": {},
   "outputs": [
    {
     "name": "stdout",
     "output_type": "stream",
     "text": [
      ">AIF71508.1 putative capsid protein [McMurdo Ice Shelf pond-associated circular DNA virus-3]\n",
      "MPNRKVVKKSKRKRTFGQKGLRMLSQAAGAAVGYGTHNLAGIAGGAEVGGYLYDKMLGEAYDDLGRDAMVEDAVNDLNRAEAADRFDRKKDSSMGAYAGKFKKNRRLKKSSLKLKALSNGYHATSEHFGRIEDPNCVYIHHSTFDNIQSIRAISGAMLRKLFKQAGIPLTDKNEEIPASNWESSAGTKLQYVHLDQMSGAQTEIDYIVTNNQGLSQILANWPAMQNHILSYLNGIAVTVPWKLCLFIPDVGPVITTHRCLSQISLWSEHLTVFQSSEIKVQNRTKGDLSGVADPEAAAIERVDSQPLIARTYYLKSGDIRLRSNAGGLANSNNVFTAAAVTGLNLIRSAQLADISWQNRPVPQIFSTCSKSADTILQPGDIKKTFVAHKFSGLFLNVLIKMRAHQINAPGTFANGCQGRSELMCFEEKIRTAGTNKIVIQYEQHYQAGAFLKSGKKVPFISTLTVTEKNNV\n"
     ]
    }
   ],
   "source": [
    "for seq_record in SeqIO.parse(fasta_path, \"fasta\"):\n",
    "    print(f\">{seq_record.description}\\n{seq_record.seq}\")"
   ]
  },
  {
   "cell_type": "code",
   "execution_count": 16,
   "metadata": {},
   "outputs": [
    {
     "name": "stdout",
     "output_type": "stream",
     "text": [
      "ID: AMH87736.1\n",
      "Descrição: AMH87736.1 hypothetical protein [Pacific flying fox associated multicomponent virus]\n",
      "Sequência: MSYTPCKVSISYLQFEIFMDKVHAMAVEILHQEIDDLQMEQLDWDAPLEVEEIPQSPPVWSPVPFQSSSPPHLTDLYDEETELETTQELTQSELEEIEAEDWIPNFNLFAHDENLDDL\n",
      "Tamanho: 118\n"
     ]
    }
   ],
   "source": [
    "print(f\"ID: {seq_record.id}\")\n",
    "print(f\"Descrição: {seq_record.description}\")\n",
    "print(f\"Sequência: {seq_record.seq}\")\n",
    "print(f\"Tamanho: {len(seq_record.seq)}\")"
   ]
  },
  {
   "cell_type": "code",
   "execution_count": 22,
   "metadata": {},
   "outputs": [],
   "source": [
    "output_file = \"/fs/scratch/Sullivan_Lab/Ricardo/ssDNA_db/concat/caps/Adamaviridae_concat_files.fa\""
   ]
  },
  {
   "cell_type": "code",
   "execution_count": 24,
   "metadata": {},
   "outputs": [],
   "source": [
    "import os\n",
    "import glob"
   ]
  },
  {
   "cell_type": "code",
   "execution_count": 32,
   "metadata": {},
   "outputs": [],
   "source": [
    "fasta_file = \"/fs/scratch/Sullivan_Lab/Ricardo/ssDNA_db/temp/Adamaviridae.fa\"\n",
    "output_dir = \"/fs/scratch/Sullivan_Lab/Ricardo/ssDNA_db/temp/Adamaviridae_name.fa\"\n",
    "family_name = \"Adamaviridae\""
   ]
  },
  {
   "cell_type": "code",
   "execution_count": 34,
   "metadata": {},
   "outputs": [],
   "source": [
    "fasta_file = \"/fs/scratch/Sullivan_Lab/Ricardo/ssDNA_db/temp/Adamaviridae.fa\"\n",
    "output_dir = \"/fs/scratch/Sullivan_Lab/Ricardo/ssDNA_db/temp/Adamaviridae_name.fa\"\n",
    "family_name = \"Adamaviridae\"\n",
    "\n",
    "\n",
    "with open(output_dir , \"w\") as out_f:\n",
    "    for record in SeqIO.parse(fasta_file, \"fasta\"):\n",
    "        record.id = f\"{record.description}|{family_name}\"\n",
    "        record.description = \"\"\n",
    "        SeqIO.write(record, out_f, \"fasta\")"
   ]
  }
 ],
 "metadata": {
  "kernelspec": {
   "display_name": "biopython",
   "language": "python",
   "name": "python3"
  },
  "language_info": {
   "codemirror_mode": {
    "name": "ipython",
    "version": 3
   },
   "file_extension": ".py",
   "mimetype": "text/x-python",
   "name": "python",
   "nbconvert_exporter": "python",
   "pygments_lexer": "ipython3",
   "version": "3.12.8"
  }
 },
 "nbformat": 4,
 "nbformat_minor": 2
}
