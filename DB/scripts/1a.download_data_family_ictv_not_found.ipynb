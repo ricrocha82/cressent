{
 "cells": [
  {
   "cell_type": "code",
   "execution_count": 8,
   "metadata": {},
   "outputs": [],
   "source": [
    "import sys\n",
    "import argparse\n",
    "from Bio import Entrez\n",
    "from Bio import SeqIO\n",
    "import pandas as pd"
   ]
  },
  {
   "cell_type": "code",
   "execution_count": 7,
   "metadata": {},
   "outputs": [],
   "source": [
    "family_file='/fs/project/PAS1117/ricardo/ssDNA_test/test_data/accession_not_found_refseq.csv'\n",
    "dir_to_download='/fs/scratch/Sullivan_Lab/Ricardo/ssDNA_db/'"
   ]
  },
  {
   "cell_type": "code",
   "execution_count": 9,
   "metadata": {},
   "outputs": [],
   "source": [
    "df_family = pd.read_csv(family_file)"
   ]
  },
  {
   "cell_type": "code",
   "execution_count": 15,
   "metadata": {},
   "outputs": [],
   "source": [
    "Entrez.email = 'pavan.4@osu.edu'"
   ]
  },
  {
   "cell_type": "code",
   "execution_count": null,
   "metadata": {},
   "outputs": [],
   "source": [
    "df_family"
   ]
  },
  {
   "cell_type": "code",
   "execution_count": null,
   "metadata": {},
   "outputs": [],
   "source": [
    "# Create output directory if it doesn't exist\n",
    "os.makedirs(dir_to_download, exist_ok=True)"
   ]
  },
  {
   "cell_type": "code",
   "execution_count": 13,
   "metadata": {},
   "outputs": [
    {
     "name": "stdout",
     "output_type": "stream",
     "text": [
      "Processing: Accession = KT149412, Family = Adamaviridae\n",
      "Processing: Accession = KJ547648, Family = Adamaviridae\n",
      "Processing: Accession = KP153485, Family = Adamaviridae\n",
      "Processing: Accession = KM821764, Family = Adamaviridae\n",
      "Processing: Accession = KP153447, Family = Adamaviridae\n",
      "Processing: Accession = KU043397, Family = Adamaviridae\n",
      "Processing: Accession = KM821755, Family = Adamaviridae\n",
      "Processing: Accession = FJ959082, Family = Adamaviridae\n",
      "Processing: Accession = KM573776, Family = Adamaviridae\n",
      "Processing: Accession = KM573767, Family = Adamaviridae\n",
      "Processing: Accession = KT732823, Family = Adamaviridae\n",
      "Processing: Accession = KT732819, Family = Adamaviridae\n",
      "Processing: Accession = KU043406, Family = Adamaviridae\n",
      "Processing: Accession = KF738877, Family = Adamaviridae\n",
      "Processing: Accession = KT149398, Family = Adamaviridae\n",
      "Processing: Accession = KM598396, Family = Adamaviridae\n",
      "Processing: Accession = KP153483, Family = Adamaviridae\n",
      "Processing: Accession = KP153468, Family = Adamaviridae\n",
      "Processing: Accession = JX185415, Family = Adamaviridae\n",
      "Processing: Accession = KP153404, Family = Adamaviridae\n",
      "Processing: Accession = KC248416, Family = Adamaviridae\n",
      "Processing: Accession = KT732816, Family = Adamaviridae\n",
      "Processing: Accession = KT732815, Family = Adamaviridae\n",
      "Processing: Accession = KT732817, Family = Adamaviridae\n",
      "Processing: Accession = MW562321, Family = Anicreviridae\n",
      "Processing: Accession = MH545533, Family = Anicreviridae\n",
      "Processing: Accession = JX908739, Family = Anicreviridae\n",
      "Processing: Accession = KF738885, Family = Anicreviridae\n",
      "Processing: Accession = KR528568, Family = Anicreviridae\n",
      "Processing: Accession = KP153409, Family = Anicreviridae\n",
      "Processing: Accession = KT732818, Family = Anicreviridae\n",
      "Processing: Accession = KR528548, Family = Anicreviridae\n",
      "Processing: Accession = MH617188, Family = Anicreviridae\n",
      "Processing: Accession = MF804498, Family = Draupnirviridae\n",
      "Processing: Accession = KP153423, Family = Draupnirviridae\n",
      "Processing: Accession = KP153408, Family = Draupnirviridae\n",
      "Processing: Accession = KM874300, Family = Draupnirviridae\n",
      "Processing: Accession = MW678988, Family = Draupnirviridae\n",
      "Processing: Accession = JN857329, Family = Draupnirviridae\n",
      "Processing: Accession = KJ641718, Family = Draupnirviridae\n",
      "Processing: Accession = MT815980, Family = Draupnirviridae\n",
      "Processing: Accession = KY302869, Family = Draupnirviridae\n",
      "Processing: Accession = MN928938, Family = Draupnirviridae\n",
      "Processing: Accession = KT149403, Family = Draupnirviridae\n",
      "Processing: Accession = MT138056, Family = Draupnirviridae\n",
      "Processing: Accession = JX904407, Family = Draupnirviridae\n",
      "Processing: Accession = MH617523, Family = Draupnirviridae\n",
      "Processing: Accession = KF738883, Family = Draupnirviridae\n",
      "Processing: Accession = KM598406, Family = Draupnirviridae\n",
      "Processing: Accession = HM228875, Family = Draupnirviridae\n",
      "Processing: Accession = MW588080, Family = Draupnirviridae\n",
      "Processing: Accession = KJ641722, Family = Draupnirviridae\n",
      "Processing: Accession = MW202677, Family = Draupnirviridae\n",
      "Processing: Accession = JX904581, Family = Draupnirviridae\n",
      "Processing: Accession = MH649188, Family = Draupnirviridae\n",
      "Processing: Accession = MH616869, Family = Draupnirviridae\n",
      "Processing: Accession = MT478515, Family = Draupnirviridae\n",
      "Processing: Accession = MT478521, Family = Draupnirviridae\n",
      "Processing: Accession = MW202764, Family = Draupnirviridae\n",
      "Processing: Accession = KY487847, Family = Draupnirviridae\n",
      "Processing: Accession = KY487945, Family = Draupnirviridae\n",
      "Processing: Accession = MT138071, Family = Draupnirviridae\n",
      "Processing: Accession = MT734813, Family = Draupnirviridae\n",
      "Processing: Accession = KJ641729, Family = Draupnirviridae\n",
      "Processing: Accession = KY487854, Family = Draupnirviridae\n",
      "Processing: Accession = MH617385, Family = Draupnirviridae\n",
      "Processing: Accession = JX904075, Family = Draupnirviridae\n",
      "Processing: Accession = KM874318, Family = Draupnirviridae\n",
      "Processing: Accession = MH616644, Family = Draupnirviridae\n",
      "Processing: Accession = KX246262, Family = Draupnirviridae\n",
      "Processing: Accession = KM874294, Family = Draupnirviridae\n",
      "Processing: Accession = JX185418, Family = Draupnirviridae\n",
      "Processing: Accession = MH648972, Family = Draupnirviridae\n",
      "Processing: Accession = MH617406, Family = Draupnirviridae\n",
      "Processing: Accession = MT181546, Family = Draupnirviridae\n",
      "Processing: Accession = MT263594, Family = Draupnirviridae\n",
      "Processing: Accession = MK012508, Family = Draupnirviridae\n",
      "Processing: Accession = MT478552, Family = Draupnirviridae\n",
      "Processing: Accession = MT478518, Family = Draupnirviridae\n",
      "Processing: Accession = MT478527, Family = Draupnirviridae\n",
      "Processing: Accession = MT478520, Family = Draupnirviridae\n",
      "Processing: Accession = MT263533, Family = Draupnirviridae\n",
      "Processing: Accession = KM972726, Family = Draupnirviridae\n",
      "Processing: Accession = MT815981, Family = Draupnirviridae\n",
      "Processing: Accession = OL704835, Family = Draupnirviridae\n",
      "Processing: Accession = MH188041, Family = Draupnirviridae\n",
      "Processing: Accession = MW202896, Family = Draupnirviridae\n",
      "Processing: Accession = KM382272, Family = Draupnirviridae\n",
      "Processing: Accession = MT734816, Family = Draupnirviridae\n",
      "Processing: Accession = KY487866, Family = Draupnirviridae\n",
      "Processing: Accession = MT478555, Family = Draupnirviridae\n",
      "Processing: Accession = KY312555, Family = Draupnirviridae\n",
      "Processing: Accession = KT149410, Family = Draupnirviridae\n",
      "Processing: Accession = MH649090, Family = Draupnirviridae\n",
      "Processing: Accession = MH617295, Family = Draupnirviridae\n",
      "Processing: Accession = MH617708, Family = Draupnirviridae\n",
      "Processing: Accession = MW697472, Family = Draupnirviridae\n",
      "Processing: Accession = KM598405, Family = Draupnirviridae\n",
      "Processing: Accession = MT478550, Family = Draupnirviridae\n",
      "Processing: Accession = MT263655, Family = Draupnirviridae\n",
      "Processing: Accession = MH617332, Family = Gandrviridae\n",
      "Processing: Accession = MN582096, Family = Gandrviridae\n",
      "Processing: Accession = MW202570, Family = Gandrviridae\n",
      "Processing: Accession = MW202822, Family = Gandrviridae\n",
      "Processing: Accession = KP153453, Family = Gandrviridae\n",
      "Processing: Accession = MH617353, Family = Gandrviridae\n",
      "Processing: Accession = MW202729, Family = Gandrviridae\n",
      "Processing: Accession = MW202851, Family = Gandrviridae\n",
      "Processing: Accession = JF713716, Family = Kirkoviridae\n",
      "Processing: Accession = KY370025, Family = Kirkoviridae\n",
      "Processing: Accession = MT457884, Family = Kirkoviridae\n",
      "Processing: Accession = KR902498, Family = Kirkoviridae\n",
      "Processing: Accession = MH617154, Family = Kirkoviridae\n",
      "Processing: Accession = KY370030, Family = Kirkoviridae\n",
      "Processing: Accession = JF713719, Family = Kirkoviridae\n",
      "Processing: Accession = JF713718, Family = Kirkoviridae\n",
      "Processing: Accession = OM095377, Family = Kirkoviridae\n",
      "Processing: Accession = KM573773, Family = Kirkoviridae\n",
      "Processing: Accession = LC708032, Family = Kirkoviridae\n",
      "Processing: Accession = KY370041, Family = Kirkoviridae\n",
      "Processing: Accession = KR528556, Family = Ouroboviridae\n",
      "Processing: Accession = KR528554, Family = Ouroboviridae\n",
      "Processing: Accession = MW588088, Family = Ouroboviridae\n",
      "Processing: Accession = MW202799, Family = Ouroboviridae\n",
      "Processing: Accession = MH617165, Family = Ouroboviridae\n",
      "Processing: Accession = MH616684, Family = Ouroboviridae\n",
      "Processing: Accession = MN891801, Family = Ouroboviridae\n",
      "Processing: Accession = MH616757, Family = Ouroboviridae\n",
      "Processing: Accession = KR528545, Family = Ouroboviridae\n",
      "Processing: Accession = MW562325, Family = Ouroboviridae\n",
      "Processing: Accession = MH617336, Family = Ouroboviridae\n",
      "Processing: Accession = MW588087, Family = Ouroboviridae\n",
      "Processing: Accession = KR528552, Family = Ouroboviridae\n",
      "Processing: Accession = MW697481, Family = Ouroboviridae\n",
      "Processing: Accession = MN928942, Family = Ouroboviridae\n",
      "Processing: Accession = MF327574, Family = Ouroboviridae\n",
      "Processing: Accession = KR528549, Family = Ouroboviridae\n",
      "Processing: Accession = KR528553, Family = Ouroboviridae\n",
      "Processing: Accession = MT138059, Family = Ouroboviridae\n",
      "Processing: Accession = MW588082, Family = Ouroboviridae\n",
      "Processing: Accession = MH648934, Family = Ouroboviridae\n",
      "Processing: Accession = MW202684, Family = Ouroboviridae\n",
      "Processing: Accession = KR528561, Family = Ouroboviridae\n",
      "Processing: Accession = KR528562, Family = Ouroboviridae\n",
      "Processing: Accession = MW588078, Family = Ouroboviridae\n",
      "Processing: Accession = MW202635, Family = Ouroboviridae\n",
      "Processing: Accession = MW202688, Family = Ouroboviridae\n",
      "Processing: Accession = MW202695, Family = Ouroboviridae\n",
      "Processing: Accession = MN582106, Family = Ouroboviridae\n",
      "Processing: Accession = JX904231, Family = Ouroboviridae\n",
      "Processing: Accession = MK433220, Family = Ouroboviridae\n",
      "Processing: Accession = MH649155, Family = Ouroboviridae\n",
      "Processing: Accession = KR528551, Family = Ouroboviridae\n",
      "Processing: Accession = MN891794, Family = Ouroboviridae\n",
      "Processing: Accession = MN928940, Family = Ouroboviridae\n",
      "Processing: Accession = MT138055, Family = Ouroboviridae\n",
      "Processing: Accession = MH649214, Family = Ouroboviridae\n",
      "Processing: Accession = MH617169, Family = Ouroboviridae\n",
      "Processing: Accession = MH617752, Family = Ouroboviridae\n",
      "Processing: Accession = MH617435, Family = Ouroboviridae\n",
      "Processing: Accession = KM874354, Family = Ouroboviridae\n",
      "Processing: Accession = MH617051, Family = Ouroboviridae\n",
      "Processing: Accession = KR528547, Family = Ouroboviridae\n",
      "Processing: Accession = KJ641738, Family = Ouroboviridae\n",
      "Processing: Accession = MG740721, Family = Ouroboviridae\n",
      "Processing: Accession = MH649205, Family = Ouroboviridae\n",
      "Processing: Accession = MH617453, Family = Ouroboviridae\n",
      "Processing: Accession = MH616801, Family = Ouroboviridae\n",
      "Processing: Accession = MH617703, Family = Ouroboviridae\n",
      "Processing: Accession = KT945163, Family = Ouroboviridae\n",
      "Processing: Accession = KJ206566, Family = Pecoviridae\n",
      "Processing: Accession = LC708001, Family = Pecoviridae\n",
      "Processing: Accession = MN621476, Family = Pecoviridae\n",
      "Processing: Accession = MH616647, Family = Pecoviridae\n",
      "Processing: Accession = LC708004, Family = Pecoviridae\n",
      "Processing: Accession = OQ599927, Family = Pecoviridae\n",
      "Processing: Accession = KY370035, Family = Pecoviridae\n",
      "Processing: Accession = KU043425, Family = Pecoviridae\n",
      "Processing: Accession = KT600066, Family = Pecoviridae\n",
      "Processing: Accession = MG571897, Family = Pecoviridae\n",
      "Processing: Accession = MW601954, Family = Pecoviridae\n",
      "Processing: Accession = MW601953, Family = Pecoviridae\n",
      "Processing: Accession = KM573766, Family = Pecoviridae\n",
      "Processing: Accession = MN379592, Family = Pecoviridae\n",
      "Processing: Accession = KU043424, Family = Pecoviridae\n"
     ]
    }
   ],
   "source": [
    "for _, row in df_family.iterrows():\n",
    "    project, family = row.iloc[0], row.iloc[1]  # Read Accession and Family\n",
    "\n",
    "    print(f\"Processing: Accession = {project}, Family = {family}\")"
   ]
  },
  {
   "cell_type": "code",
   "execution_count": 29,
   "metadata": {},
   "outputs": [],
   "source": [
    "search_handle = Entrez.esearch(db=\"nuccore\", term='MW601953', retmax=1)"
   ]
  },
  {
   "cell_type": "code",
   "execution_count": 30,
   "metadata": {},
   "outputs": [],
   "source": [
    "search_results = Entrez.read(search_handle)"
   ]
  },
  {
   "cell_type": "code",
   "execution_count": 31,
   "metadata": {},
   "outputs": [],
   "source": [
    "nucleotide_id = search_results[\"IdList\"][0]"
   ]
  },
  {
   "cell_type": "code",
   "execution_count": 32,
   "metadata": {},
   "outputs": [],
   "source": [
    "fetch_handle = Entrez.efetch(db=\"nuccore\", id=nucleotide_id, rettype=\"ft\", retmode=\"text\")\n",
    "feature_table = fetch_handle.read()\n",
    "fetch_handle.close()"
   ]
  },
  {
   "cell_type": "code",
   "execution_count": 36,
   "metadata": {},
   "outputs": [
    {
     "data": {
      "text/plain": [
       "['>Feature gb|MW601953.1|',\n",
       " '1\\t9\\trep_origin',\n",
       " '67\\t1188\\tgene',\n",
       " '\\t\\t\\tgene\\tcap',\n",
       " '67\\t1188\\tCDS',\n",
       " '\\t\\t\\tproduct\\tcapsid protein',\n",
       " '\\t\\t\\tprotein_id\\tgb|QXF14475.1|',\n",
       " '2541\\t1456\\tgene',\n",
       " '\\t\\t\\tgene\\trep',\n",
       " '2541\\t1456\\tCDS',\n",
       " '\\t\\t\\tproduct\\treplication-associated protein',\n",
       " '\\t\\t\\tprotein_id\\tgb|QXF14476.1|',\n",
       " '']"
      ]
     },
     "execution_count": 36,
     "metadata": {},
     "output_type": "execute_result"
    }
   ],
   "source": [
    "feature_table.splitlines()"
   ]
  },
  {
   "cell_type": "code",
   "execution_count": 34,
   "metadata": {},
   "outputs": [],
   "source": [
    "        protein_ids = []\n",
    "        for line in feature_table.splitlines():\n",
    "            if \"protein_id\" in line:\n",
    "                parts = line.split()\n",
    "                if len(parts) > 1:\n",
    "                    protein_id = parts[1].strip('\"')\n",
    "                    protein_ids.append(protein_id)"
   ]
  },
  {
   "cell_type": "code",
   "execution_count": 39,
   "metadata": {},
   "outputs": [
    {
     "name": "stdout",
     "output_type": "stream",
     "text": [
      "Downloading: gb|QXF14475.1|\n",
      "Downloading: gb|QXF14476.1|\n"
     ]
    }
   ],
   "source": [
    "        for protein_id in protein_ids:\n",
    "            print(f\"Downloading: {protein_id}\")"
   ]
  },
  {
   "cell_type": "code",
   "execution_count": 40,
   "metadata": {},
   "outputs": [],
   "source": [
    "fetch_handle = Entrez.efetch(db=\"protein\", id=\"gb|QXF14475.1|\", rettype=\"fasta\", retmode=\"text\")"
   ]
  },
  {
   "cell_type": "code",
   "execution_count": 41,
   "metadata": {},
   "outputs": [],
   "source": [
    "fasta_data = fetch_handle.read()"
   ]
  },
  {
   "cell_type": "code",
   "execution_count": 42,
   "metadata": {},
   "outputs": [
    {
     "data": {
      "text/plain": [
       "'>QXF14475.1 capsid protein [Porcine associated circular DNA virus-2]\\nMVRRYYKRNRRRYGRSRRKVRMSKSLFKRRRYRRTRRRFRKSKGLTVSGNRESCLEESSFIPMATEVYGS\\nYVGTLRDGFYQWSINPLPAGVCEMPGDSTYTGRWEAAGTDCFKRGIGKKEEALMLVDLPICMSQLSVRNL\\nVRCDTLFELCKSYRIVSVSCTFTVPERTSDGPNHNLYLMWTHLPKCRAADAESCFGLVCEEVAHISGQYS\\nPTVNGWNWIANPADIAEACSCDGIENGKNGWIRKQLAYNNPVTISWRPRHAKIIASHKNYTDSGVKAGQA\\nTTYNKVLPDFAMDLKMSRGYLPTDIDDRALTERQFWMGPCIRLIDGDIKASEPVPETSALNIFDRYGIRV\\nTTTVKVRFKGMNTSDPIFPNYQA\\n\\n'"
      ]
     },
     "execution_count": 42,
     "metadata": {},
     "output_type": "execute_result"
    }
   ],
   "source": [
    "fasta_data"
   ]
  },
  {
   "cell_type": "code",
   "execution_count": 43,
   "metadata": {},
   "outputs": [
    {
     "ename": "NameError",
     "evalue": "name 'fasta_file' is not defined",
     "output_type": "error",
     "traceback": [
      "\u001b[0;31m---------------------------------------------------------------------------\u001b[0m",
      "\u001b[0;31mNameError\u001b[0m                                 Traceback (most recent call last)",
      "Cell \u001b[0;32mIn[43], line 1\u001b[0m\n\u001b[0;32m----> 1\u001b[0m \u001b[43mfasta_file\u001b[49m\u001b[38;5;241m.\u001b[39mwrite(fasta_data)\n",
      "\u001b[0;31mNameError\u001b[0m: name 'fasta_file' is not defined"
     ]
    }
   ],
   "source": [
    "fasta_file.write(fasta_data)"
   ]
  },
  {
   "cell_type": "code",
   "execution_count": 11,
   "metadata": {},
   "outputs": [
    {
     "data": {
      "text/plain": [
       "<generator object DataFrame.iterrows at 0x2addd8a52df0>"
      ]
     },
     "execution_count": 11,
     "metadata": {},
     "output_type": "execute_result"
    }
   ],
   "source": [
    "# Iterate over each row\n",
    "for _, row in df.iterrows():\n",
    "    project, family = row[0], row[1]  # Read Accession and Family\n",
    "\n",
    "    print(f\"Processing: Accession = {project}, Family = {family}\")\n",
    "\n",
    "    # Create a directory for the family\n",
    "    family_dir = os.path.join(dir_to_download, family)\n",
    "    os.makedirs(family_dir, exist_ok=True)\n",
    "\n",
    "    # Output files\n",
    "    out_1 = os.path.join(family_dir, f\"{project}.txt\")  # Stores protein IDs\n",
    "    out_2 = os.path.join(family_dir, f\"{family}.fa\")    # Stores protein sequences\n",
    "\n",
    "    # Search for nucleotide records\n",
    "    try:\n",
    "        search_handle = Entrez.esearch(db=\"nuccore\", term=project, retmax=1)\n",
    "        search_results = Entrez.read(search_handle)\n",
    "        search_handle.close()\n",
    "\n",
    "        if not search_results[\"IdList\"]:\n",
    "            print(f\"No results found for {project}\")\n",
    "            continue\n",
    "\n",
    "        nucleotide_id = search_results[\"IdList\"][0]\n",
    "        print(f\"Found nucleotide ID: {nucleotide_id}\")\n",
    "\n",
    "        # Fetch feature table (ft) to extract protein IDs\n",
    "        fetch_handle = Entrez.efetch(db=\"nuccore\", id=nucleotide_id, rettype=\"ft\", retmode=\"text\")\n",
    "        feature_table = fetch_handle.read()\n",
    "        fetch_handle.close()\n",
    "\n",
    "        # Extract protein IDs from the feature table\n",
    "        protein_ids = []\n",
    "        for line in feature_table.splitlines():\n",
    "            if \"protein_id\" in line:\n",
    "                parts = line.split()\n",
    "                if len(parts) > 1:\n",
    "                    protein_id = parts[1].strip('\"')\n",
    "                    protein_ids.append(protein_id)\n",
    "\n",
    "        if not protein_ids:\n",
    "            print(f\"No protein IDs found for {project}\")\n",
    "            continue\n",
    "\n",
    "        # Retrieve and save protein sequences\n",
    "        with open(out_2, \"a\") as fasta_file:\n",
    "            for protein_id in protein_ids:\n",
    "                print(f\"Downloading: {protein_id}\")\n",
    "                try:\n",
    "                    fetch_handle = Entrez.efetch(db=\"protein\", id=protein_id, rettype=\"fasta\", retmode=\"text\")\n",
    "                    fasta_data = fetch_handle.read()\n",
    "                    fetch_handle.close()\n",
    "                    fasta_file.write(fasta_data)\n",
    "                except Exception as e:\n",
    "                    print(f\"Error fetching protein {protein_id}: {e}\")\n",
    "\n",
    "    except Exception as e:\n",
    "        print(f\"Error processing {project}: {e}\")\n",
    "    "
   ]
  }
 ],
 "metadata": {
  "kernelspec": {
   "display_name": "biopython",
   "language": "python",
   "name": "python3"
  },
  "language_info": {
   "codemirror_mode": {
    "name": "ipython",
    "version": 3
   },
   "file_extension": ".py",
   "mimetype": "text/x-python",
   "name": "python",
   "nbconvert_exporter": "python",
   "pygments_lexer": "ipython3",
   "version": "3.12.8"
  }
 },
 "nbformat": 4,
 "nbformat_minor": 2
}
